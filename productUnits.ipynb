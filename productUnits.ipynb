{
 "cells": [
  {
   "cell_type": "code",
   "execution_count": 1,
   "id": "9e02a56a-b766-4f9b-be32-99670172f1fd",
   "metadata": {},
   "outputs": [],
   "source": [
    "import torch\n",
    "import torch.nn as nn\n",
    "import math\n",
    "import random\n",
    "import numpy as np  \n",
    "from sklearn import datasets\n",
    "import matplotlib.pyplot as plt\n",
    "from sklearn.preprocessing import StandardScaler\n",
    "from sklearn.model_selection import train_test_split\n",
    "import warnings\n",
    "warnings.filterwarnings('ignore')"
   ]
  },
  {
   "cell_type": "markdown",
   "id": "b5762218-a088-43e8-bfc9-92ce551717e2",
   "metadata": {},
   "source": [
    "### Linear regression"
   ]
  },
  {
   "cell_type": "markdown",
   "id": "c0e84f83-2357-446c-b835-b38aadaa060f",
   "metadata": {},
   "source": [
    "#### Linear regression with product Unit."
   ]
  },
  {
   "cell_type": "code",
   "execution_count": 2,
   "id": "51dc368a-237c-4cf3-8206-05e8ecc47d3b",
   "metadata": {},
   "outputs": [
    {
     "name": "stdout",
     "output_type": "stream",
     "text": [
      "5 1\n",
      "Prediction before training: f(-1) = -0.0000\n",
      "0.5\n",
      "Prediction after training: f(-1) = -0.3090\n",
      "0.6000000238418579\n"
     ]
    }
   ],
   "source": [
    "X_test = torch.tensor([-1], dtype=torch.float32)\n",
    "\n",
    "X =torch.tensor([[-0.5],[-0.6],[-0.7],[-0.8],[-0.9]],dtype=torch.float32)\n",
    "Y = torch.tensor([[-0.2039],[-0.2244],[-0.2495],[-0.2703],[-0.2901]],dtype=torch.float32)\n",
    "X1 =torch.tensor([[-0.5885648376841833], [-0.09900192054193391], [-0.721991878691518], [-0.3927578982426313], [-0.9702909131154664], [-0.25848755875211027], [-0.45217432077178976], [-0.7345660430117211], [-0.7199675442409822], [-0.30209379834554073], [-0.011025158748808495], [-0.4607037214918074], [-0.6858432803791017], [-0.8729723525778861], [-0.06664504829882101], [-0.8419810950283677], [-0.5465245896405809], [-0.35365203195382544], [-0.714180685827197], [-0.6441150557480817], [-0.1031216041945946], [-0.6657086570495208], [-0.4707446723895634], [-0.804144598173791], [-0.8591328341562191], [-0.802999587409331], [-0.7137473462572468], [-0.16537477474155626], [-0.3030242728058412], [-0.22504015688284618], [-0.4024999239103183], [-0.02161788588618474], [-0.5142433930606236], [-0.7546080352208917], [-0.4640985838201416], [-0.33803030454932725], [-0.2816140897973032], [-0.6868628970269389], [-0.4302482478126666], [-0.10061945870844724], [-0.23792985139862677], [-0.5391519126171247], [-0.8359127171780453], [-0.007270430622703383], [-0.7464930559214825], [-0.25177809625453573], [-0.4798506163826233], [-0.28604307508666416], [-0.9780273895269843], [-0.04385690518497998], [-0.12315502999253358], [-0.15859944766130074], [-0.18750597608908504], [-0.4456674937794388], [-0.17539488688841676], [-0.7346757007540369], [-0.19735976602049887], [-0.18116116639875646], [-0.762456502756744], [-0.7861678115226209], [-0.9224870133986028], [-0.07014434935839231], [-0.8312159997380844], [-0.024293661556656132], [-0.5004616474171616], [-0.30013742049317205], [-0.5147916279366697], [-0.24847569204196307], [-0.3904807560722602], [-0.6657960530055682], [-0.20367673336478043], [-0.7993284428529792], [-0.5329975976742249], [-0.32207428477392275], [-0.21844107179870598], [-0.20207511253795918], [-0.9439800697299809], [-0.34139430176331376], [-0.973381967594768], [-0.7208366872163295], [-0.8716236615364081], [-0.12640486139836016], [-0.04886405904588731], [-0.07477655998268729], [-0.717550814016385], [-0.5857321860560156], [-0.7078613096203336], [-0.11087259295157825], [-0.8772410271564356], [-0.3290004731710888], [-0.42468885989192406], [-0.9434118764267552], [-0.5206574883632853], [-0.2933087818294301], [-0.19937921789008584], [-0.9082535294535887], [-0.507932096056209], [-0.6918059886108883], [-0.35384795128270663], [-0.3679339776924816]],dtype=torch.float32)\n",
    "Y1 = torch.tensor([[-0.22483253479003906], [-0.07715582847595215], [-0.2541569471359253], [-0.17638333141803741], [-0.30347558856010437], [-0.13722914457321167], [-0.1919402778148651], [-0.25680360198020935], [-0.2537291347980499], [-0.15068419277668], [-0.020673470571637154], [-0.19410450756549835], [-0.24644358456134796], [-0.2848281264305115], [-0.06084757670760155], [-0.2787173390388489], [-0.2150544375181198], [-0.1656259000301361], [-0.25250351428985596], [-0.23733437061309814], [-0.07906647026538849], [-0.24207675457000732], [-0.19663183391094208], [-0.2711334228515625], [-0.28211018443107605], [-0.27090173959732056], [-0.2524115741252899], [-0.10496973991394043], [-0.1509624719619751], [-0.12628115713596344], [-0.17899547517299652], [-0.03096495382487774], [-0.2073403298854828], [-0.2609849274158478], [-0.19496142864227295], [-0.16119663417339325], [-0.14446917176246643], [-0.24666333198547363], [-0.18630051612854004], [-0.07790973782539368], [-0.13057255744934082], [-0.21330904960632324], [-0.27751031517982483], [-0.016103440895676613], [-0.25929731130599976], [-0.1350807100534439], [-0.19890524446964264], [-0.14582815766334534], [-0.3049251139163971], [-0.047337498515844345], [-0.08795365691184998], [-0.10236784815788269], [-0.11318571865558624], [-0.19027826189994812], [-0.10874085873365402], [-0.25682660937309265], [-0.11671797931194305], [-0.11087192595005035], [-0.26261022686958313], [-0.2674802541732788], [-0.2944141924381256], [-0.0627448558807373], [-0.27657371759414673], [-0.033210720866918564], [-0.2039882093667984], [-0.15009792149066925], [-0.20747293531894684], [-0.13401485979557037], [-0.17576904594898224], [-0.24209582805633545], [-0.11894533783197403], [-0.27015796303749084], [-0.2118447721004486], [-0.15658718347549438], [-0.12404610961675644], [-0.1183832436800003], [-0.29851096868515015], [-0.16215722262859344], [-0.3040553033351898], [-0.25391286611557007], [-0.2845640182495117], [-0.08933895826339722], [-0.05050986632704735], [-0.06519914418458939], [-0.25321778655052185], [-0.22418265044689178], [-0.251160591840744], [-0.08258042484521866], [-0.2856629490852356], [-0.15859901905059814], [-0.18485239148139954], [-0.29840314388275146], [-0.20888817310333252], [-0.14803950488567352], [-0.1174330934882164], [-0.29168012738227844], [-0.20580975711345673], [-0.2477269172668457], [-0.16568095982074738], [-0.16960731148719788]],dtype=torch.float32)\n",
    "# X_numpy, y_numpy = datasets.make_regression(n_samples = 100, n_features =1, noise=2, random_state = 1)\n",
    "# X = torch.tensor(torch.from_numpy(X_numpy.astype(np.float32)), requires_grad = True)\n",
    "# Y = torch.tensor(torch.from_numpy(y_numpy.astype(np.float32)), requires_grad = True)\n",
    "# Y=Y.view(Y.shape[0],1)\n",
    "\n",
    "\n",
    "n_samples, n_features = X.shape\n",
    "n_samples, n_features = X.shape\n",
    "print(n_samples, n_features)\n",
    "\n",
    "w = torch.nn.Parameter(torch.abs(torch.tensor([0.5000], dtype=torch.float32, requires_grad=True)))\n",
    "\n",
    "input_size = n_features\n",
    "output_size = n_features\n",
    "#model prediction\n",
    "\n",
    "def model(x):\n",
    "    p = w*torch.log(torch.abs(torch.tensor(x)))\n",
    "    return torch.exp(p) * torch.cos(torch.pi*w)\n",
    "\n",
    "loss = nn.MSELoss()\n",
    "\n",
    "\n",
    "\n",
    "print(f'Prediction before training: f(-1) = {model(X_test).item():.4f}')\n",
    "print(w[0].item())\n",
    "l_rate = 0.05\n",
    "iteration = 1000\n",
    "optimizer = torch.optim.Adam([w],lr=l_rate)\n",
    "\n",
    "for epoch in range(iteration):\n",
    "    for i in range(len(X1)):\n",
    "        y_pred = model(X1[i])\n",
    "\n",
    "        #loss\n",
    "        l = loss(Y1[i], y_pred)\n",
    "\n",
    "        #Gradient\n",
    "        l.backward()\n",
    "\n",
    "        #update weight\n",
    "        optimizer.step()\n",
    "\n",
    "        optimizer.zero_grad()\n",
    "\n",
    "    # if epoch % 50 ==0:\n",
    "    #     #[w,b] = model.parameters()\n",
    "    #     print(f'epoch {epoch+1}: w = {w.item():.3f}, loss = {l:.8f}')\n",
    "print(f'Prediction after training: f(-1) = {model(X_test).item():.4f}')\n",
    "print(w[0].item())\n",
    "\n",
    "# x_a = []\n",
    "# y_a = []\n",
    "\n",
    "# for i in range(100):\n",
    "#     x_a.append([-random.random()])\n",
    "\n",
    "# for i in x_a:\n",
    "#     y_a.append([model(i).item()])\n",
    "# print(x_a)\n",
    "# print()\n",
    "# print(y_a)"
   ]
  },
  {
   "cell_type": "code",
   "execution_count": 3,
   "id": "1b5c87a3-3444-4833-8a6c-acc9cfff2fef",
   "metadata": {},
   "outputs": [
    {
     "data": {
      "text/plain": [
       "<matplotlib.collections.PathCollection at 0x7f1e5f48dcd0>"
      ]
     },
     "execution_count": 3,
     "metadata": {},
     "output_type": "execute_result"
    },
    {
     "data": {
      "image/png": "[encoded data removed]",
      "text/plain": [
       "<Figure size 432x288 with 1 Axes>"
      ]
     },
     "metadata": {
      "needs_background": "light"
     },
     "output_type": "display_data"
    }
   ],
   "source": [
    "plt.scatter(X1,Y1)"
   ]
  },
  {
   "cell_type": "markdown",
   "id": "fb90597c-5f06-45f8-bf7d-814e0fa85cbb",
   "metadata": {},
   "source": [
    "### PRODUCT UNITS"
   ]
  },
  {
   "cell_type": "code",
   "execution_count": 4,
   "id": "b1016773-5524-4dad-9a15-f29c1c9b72fa",
   "metadata": {},
   "outputs": [],
   "source": [
    "class myLinear(nn.Module):\n",
    "    def __init__(self, in_features, out_features, bias=True):\n",
    "        super().__init__()\n",
    "        self.in_features = in_features\n",
    "        self.out_features = out_features\n",
    "        self.bias = bias\n",
    "        self.weight = torch.nn.Parameter(torch.abs(torch.Tensor(out_features, in_features)))\n",
    "        #self.weight = torch.nn.Parameter(torch.tensor([-0.124000], dtype=torch.float32, requires_grad=True))\n",
    "        #self.bias = torch.nn.Parameter(torch.tensor([0.000], dtype=torch.float32, requires_grad=True))\n",
    "       \n",
    "        if bias:\n",
    "            self.bias = torch.nn.Parameter(-1*torch.Tensor(out_features))\n",
    "        else:\n",
    "            self.register_parameter('bias', None)\n",
    "        self.reset_parameters()\n",
    "        \n",
    "    def reset_parameters(self):\n",
    "        torch.nn.init.kaiming_uniform_(self.weight, a=math.sqrt(5))\n",
    "        if self.bias is not None:\n",
    "            fan_in, _ = torch.nn.init._calculate_fan_in_and_fan_out(self.weight)\n",
    "            bound = 1 / math.sqrt(fan_in)\n",
    "            torch.nn.init.uniform_(self.bias, -bound, bound)\n",
    "        \n",
    "    def forward(self, x):\n",
    "        w = self.weight.clone()\n",
    "\n",
    "        for i in range(len(x)):\n",
    "            if x[i] >0:\n",
    "                w[:,i] = 0.0\n",
    "\n",
    "        p = torch.exp(self.weight@torch.log(torch.tensor(torch.abs(x))))\n",
    "        o = torch.cos(torch.pi*(sum(w.T)))\n",
    "\n",
    "        return p*o\n",
    "\n",
    "my = myLinear(1,1)\n",
    "\n",
    "# inn2 = torch.tensor([-0.20,-0.14])\n",
    "# print(my.forward(inn2)"
   ]
  },
  {
   "cell_type": "code",
   "execution_count": 5,
   "id": "7f89553b-a68b-4877-80ad-0ca8fafad815",
   "metadata": {},
   "outputs": [],
   "source": [
    "class ProductUnit(nn.Module):\n",
    "    def __init__(self, in_features, out_features):\n",
    "        super(ProductUnit,self).__init__()\n",
    "        self.layer1 = myLinear(in_features, out_features)\n",
    "        #self.layer2 = myLinear(40,30)\n",
    "        # self.layer3 = myLinear(30,20)\n",
    "        # self.layer4 = myLinear(20,out_features)\n",
    "        \n",
    "        self.product_unit  = nn.Sequential(self.layer1)#,nn.Tanh(),self.layer2,nn.Tanh(),self.layer3,nn.Tanh(),self.layer4,nn.Sigmoid()) # unpacking a list\n",
    "        \n",
    "        \n",
    "    def forward(self,x): \n",
    "        return self.product_unit(x)\n",
    "        \n",
    "        "
   ]
  },
  {
   "cell_type": "code",
   "execution_count": 6,
   "id": "a4c7b8d1-7316-427a-b5a9-bd1677d2c9b4",
   "metadata": {},
   "outputs": [],
   "source": [
    "bc = datasets.load_breast_cancer()\n",
    "X, y = bc.data, bc.target\n",
    "\n",
    "n_samples, n_features = X.shape\n",
    "X_train, X_test, y_train, y_test = train_test_split(X,y, test_size = 0.2, random_state = 1234)"
   ]
  },
  {
   "cell_type": "code",
   "execution_count": 7,
   "id": "5f95cdaf-e9e6-46df-b5a7-763a64f03cc7",
   "metadata": {},
   "outputs": [],
   "source": [
    "sc = StandardScaler()\n",
    "X_train = sc.fit_transform(X_train)\n",
    "X_test = sc.fit_transform(X_test)"
   ]
  },
  {
   "cell_type": "code",
   "execution_count": 8,
   "id": "52cb3e1d-f69e-4cf6-8b0e-de2f22df8dd4",
   "metadata": {},
   "outputs": [],
   "source": [
    "X_train = torch.tensor(torch.from_numpy(X_train.astype(np.float32)), requires_grad = True)\n",
    "X_test = torch.tensor(torch.from_numpy(X_test.astype(np.float32)),requires_grad = True)\n",
    "y_train = torch.tensor(torch.from_numpy(y_train.astype(np.float32)),requires_grad = True)\n",
    "y_test = torch.tensor(torch.from_numpy(y_test.astype(np.float32)),requires_grad = True)\n",
    "\n",
    "y_train = y_train.view(y_train.shape[0], 1)\n",
    "y_test = y_test.view(y_test.shape[0], 1)"
   ]
  },
  {
   "cell_type": "code",
   "execution_count": 9,
   "id": "782be80d-97e5-47e7-ba37-adab48d183df",
   "metadata": {},
   "outputs": [],
   "source": [
    "n_samples, n_features = X_train.shape"
   ]
  },
  {
   "cell_type": "code",
   "execution_count": 10,
   "id": "7988bbfb-746e-43cb-98eb-20f8e46ff612",
   "metadata": {},
   "outputs": [],
   "source": [
    "model1 = ProductUnit(1,1)"
   ]
  },
  {
   "cell_type": "code",
   "execution_count": 11,
   "id": "8df2948e-3638-4904-a5ae-e09ae136053b",
   "metadata": {},
   "outputs": [],
   "source": [
    "l_rate = 0.05\n",
    "bce = nn.MSELoss() # Define a loss function that makes sense.\n",
    "optimizer = torch.optim.Adam(model1.parameters(), lr = l_rate)"
   ]
  },
  {
   "cell_type": "code",
   "execution_count": 12,
   "id": "14d64776-a044-44cf-b556-63424752be95",
   "metadata": {},
   "outputs": [],
   "source": [
    "#model1.train() # Must do this so that the weights are udated with each epoch"
   ]
  },
  {
   "cell_type": "code",
   "execution_count": null,
   "id": "a590a4c8-1047-474d-81b8-8276577e4b47",
   "metadata": {},
   "outputs": [],
   "source": []
  },
  {
   "cell_type": "code",
   "execution_count": 13,
   "id": "5127f559-69da-4000-8809-abaa458f6cfd",
   "metadata": {},
   "outputs": [
    {
     "name": "stdout",
     "output_type": "stream",
     "text": [
      "Prediction before training: f(-1) = -0.8452\n",
      "0.8205132484436035\n",
      "Prediction after training: f(-1) = -0.3090\n",
      "0.6000000238418579\n"
     ]
    }
   ],
   "source": [
    "print(f'Prediction before training: f(-1) = {model1(torch.tensor([-1], dtype=torch.float32)).item():.4f}')\n",
    "epochs = 1000\n",
    "print(model1.layer1.weight[0].item())\n",
    "for i in range(epochs):\n",
    "    for idx in range(len(X1)):\n",
    "        y_pred = model1(X1[idx])\n",
    "        #print(y_pred)\n",
    "        loss = bce(y_pred, Y1[idx])\n",
    "        \n",
    "        #backward pass\n",
    "        loss.backward()\n",
    "        \n",
    "        #update\n",
    "        optimizer.step()\n",
    "        \n",
    "        #zero gradient\n",
    "        optimizer.zero_grad()\n",
    "    #     if (idx+1) % 1 ==0:\n",
    "    #         print(f'idx: {idx+1}, loss = {loss.item():.4f}')\n",
    "    # print(f'{i+1} epoch done')\n",
    "print(f'Prediction after training: f(-1) = {model1(torch.tensor([-1], dtype=torch.float32)).item():.4f}')\n",
    "print(model1.layer1.weight[0].item())"
   ]
  },
  {
   "cell_type": "code",
   "execution_count": 14,
   "id": "05df8f81-d18f-4196-b2ba-8afc9cc8e015",
   "metadata": {},
   "outputs": [],
   "source": [
    "# for epoch in epochs:\n",
    "#     # me.zero_grad()\n",
    "#     for idx,(X,y) in enumerate(dataset):\n",
    "#         # X is the training data\n",
    "#         # y is the actual values\n",
    "#         ypred = me(x) # You are performing the forward method for ProductUnit\n",
    "#         loss = bce(y,ypred) # Compute the loss \n",
    "#         loss.backward() # It Magically Gets The Derivatives, Backpropagation\n",
    "#         optimizer.step() # Updates the weights\n",
    "#         if idx % 10 > 0:\n",
    "#             print(f\"0 ===========================>The loss if {loss}\")\n",
    "        \n",
    "def threshold(y_pred, thresh=0.5):\n",
    "    if y_pred>=thresh:\n",
    "        return 1\n",
    "    else:\n",
    "        return 0"
   ]
  },
  {
   "cell_type": "code",
   "execution_count": 15,
   "id": "c7c8bfe8-8c68-40a5-92ea-49da1bcbe5e1",
   "metadata": {},
   "outputs": [
    {
     "ename": "AttributeError",
     "evalue": "'function' object has no attribute 'eval'",
     "output_type": "error",
     "traceback": [
      "\u001b[0;31m---------------------------------------------------------------------------\u001b[0m",
      "\u001b[0;31mAttributeError\u001b[0m                            Traceback (most recent call last)",
      "\u001b[0;32m/tmp/ipykernel_74869/2613509205.py\u001b[0m in \u001b[0;36m<module>\u001b[0;34m\u001b[0m\n\u001b[0;32m----> 1\u001b[0;31m \u001b[0mmodel\u001b[0m\u001b[0;34m.\u001b[0m\u001b[0meval\u001b[0m\u001b[0;34m(\u001b[0m\u001b[0;34m)\u001b[0m\u001b[0;34m\u001b[0m\u001b[0;34m\u001b[0m\u001b[0m\n\u001b[0m\u001b[1;32m      2\u001b[0m \u001b[0mscore\u001b[0m \u001b[0;34m=\u001b[0m \u001b[0;36m0\u001b[0m\u001b[0;34m\u001b[0m\u001b[0;34m\u001b[0m\u001b[0m\n\u001b[1;32m      3\u001b[0m \u001b[0;32mfor\u001b[0m \u001b[0mi\u001b[0m \u001b[0;32min\u001b[0m \u001b[0mrange\u001b[0m\u001b[0;34m(\u001b[0m\u001b[0mlen\u001b[0m\u001b[0;34m(\u001b[0m\u001b[0mX_test\u001b[0m\u001b[0;34m)\u001b[0m\u001b[0;34m)\u001b[0m\u001b[0;34m:\u001b[0m\u001b[0;34m\u001b[0m\u001b[0;34m\u001b[0m\u001b[0m\n\u001b[1;32m      4\u001b[0m     \u001b[0mypred\u001b[0m \u001b[0;34m=\u001b[0m \u001b[0mmodel\u001b[0m\u001b[0;34m(\u001b[0m\u001b[0mX_test\u001b[0m\u001b[0;34m[\u001b[0m\u001b[0mi\u001b[0m\u001b[0;34m]\u001b[0m\u001b[0;34m)\u001b[0m \u001b[0;31m# me has already updated the weights\u001b[0m\u001b[0;34m\u001b[0m\u001b[0;34m\u001b[0m\u001b[0m\n\u001b[1;32m      5\u001b[0m     \u001b[0mychange\u001b[0m \u001b[0;34m=\u001b[0m \u001b[0mthreshold\u001b[0m\u001b[0;34m(\u001b[0m\u001b[0mypred\u001b[0m\u001b[0;34m,\u001b[0m\u001b[0mthresh\u001b[0m\u001b[0;34m=\u001b[0m\u001b[0;36m0.5\u001b[0m\u001b[0;34m)\u001b[0m \u001b[0;31m# This takes ypred of decimals (i.e 0.78) and says make it 1 if > thresh otherwise 0\u001b[0m\u001b[0;34m\u001b[0m\u001b[0;34m\u001b[0m\u001b[0m\n",
      "\u001b[0;31mAttributeError\u001b[0m: 'function' object has no attribute 'eval'"
     ]
    }
   ],
   "source": [
    "model.eval()\n",
    "score = 0 \n",
    "for i in range(len(X_test)):\n",
    "    ypred = model(X_test[i]) # me has already updated the weights\n",
    "    ychange = threshold(ypred,thresh=0.5) # This takes ypred of decimals (i.e 0.78) and says make it 1 if > thresh otherwise 0 \n",
    "    if ychange == y_train[i]:\n",
    "        score += 1\n",
    "print(score)"
   ]
  },
  {
   "cell_type": "code",
   "execution_count": null,
   "id": "82c360b2-0c4a-4dcd-b2c3-dafa5a2a49cf",
   "metadata": {},
   "outputs": [],
   "source": []
  },
  {
   "cell_type": "code",
   "execution_count": null,
   "id": "de987dcf-c70c-4562-ba5b-830d9272764b",
   "metadata": {},
   "outputs": [],
   "source": [
    "accuracy = score/len(X_test)\n",
    "print(accuracy)"
   ]
  },
  {
   "cell_type": "code",
   "execution_count": null,
   "id": "03655147-5947-49ac-abb6-4fb8fba3be5d",
   "metadata": {},
   "outputs": [],
   "source": []
  }
 ],
 "metadata": {
  "kernelspec": {
   "display_name": "Python 3 (ipykernel)",
   "language": "python",
   "name": "python3"
  },
  "language_info": {
   "codemirror_mode": {
    "name": "ipython",
    "version": 3
   },
   "file_extension": ".py",
   "mimetype": "text/x-python",
   "name": "python",
   "nbconvert_exporter": "python",
   "pygments_lexer": "ipython3",
   "version": "3.8.10"
  }
 },
 "nbformat": 4,
 "nbformat_minor": 5
}
